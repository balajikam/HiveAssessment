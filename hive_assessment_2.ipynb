{
  "nbformat": 4,
  "nbformat_minor": 0,
  "metadata": {
    "colab": {
      "provenance": [],
      "authorship_tag": "ABX9TyMFpXeFwvHr92ytIAV9sLp0",
      "include_colab_link": true
    },
    "kernelspec": {
      "name": "python3",
      "display_name": "Python 3"
    },
    "language_info": {
      "name": "python"
    }
  },
  "cells": [
    {
      "cell_type": "markdown",
      "metadata": {
        "id": "view-in-github",
        "colab_type": "text"
      },
      "source": [
        "<a href=\"https://colab.research.google.com/github/balajikam/HiveAssessment/blob/main/hive_assessment_2.ipynb\" target=\"_parent\"><img src=\"https://colab.research.google.com/assets/colab-badge.svg\" alt=\"Open In Colab\"/></a>"
      ]
    },
    {
      "cell_type": "code",
      "execution_count": null,
      "metadata": {
        "id": "Hm2__-3ANJ76"
      },
      "outputs": [],
      "source": [
        "Create database driver_bk;\n",
        "\n",
        "# Driver table\n",
        "\n",
        "CREATE EXTERNAL TABLE driver_bk.drivers(\n",
        "driverId INT,\n",
        "name STRING,\n",
        "ssn BIGINT,\n",
        "location STRING,\n",
        "certified STRING,\n",
        "wage_plan STRING)\n",
        "ROW FORMAT DELIMITED FIELDS TERMINATED BY ','\n",
        "LINES TERMINATED BY '\\n'\n",
        "STORED As TextFile\n",
        "LOCATION '/user/mavricbdhnov0117/workspace'\n",
        "tblproperties(\n",
        "\"skip.header.line.count\"=\"1\"\n",
        ");\n",
        "\n",
        "# Timesheet Table\n",
        "\n",
        "CREATE EXTERNAL TABLE driver_bk.timesheet(\n",
        "driverId INT,\n",
        "week INT,\n",
        "hours_logged INT,\n",
        "miles_logged INT)\n",
        "ROW FORMAT DELIMITED FIELDS TERMINATED BY ','\n",
        "LINES TERMINATED BY '\\n'\n",
        "STORED As TextFile\n",
        "LOCATION '/user/mavricbdhnov0117/workspace'\n",
        "tblproperties(\n",
        "\"skip.header.line.count\"=\"1\"\n",
        ");"
      ]
    },
    {
      "cell_type": "code",
      "source": [
        "# Query 1: How many total hours and miles logged by each driver?\n",
        "\n",
        "SELECT t.driverId, d.name, SUM(t.hours_logged) AS total_hours_logged, SUM(t.miles_logged) AS total_miles_logged FROM timesheet t JOIN drivers d ON t.driverId = d.driverId GROUP BY t.driverId;"
      ],
      "metadata": {
        "id": "j5mkO-FeNYFV"
      },
      "execution_count": null,
      "outputs": []
    },
    {
      "cell_type": "code",
      "source": [
        "# Query 2: Print the name of the driver in the above query\n",
        "\n",
        "SELECT t.driverId, d.name, SUM(t.hours_logged) AS total_hours_logged, SUM(t.miles_logged) AS total_miles_logged FROM timesheet t JOIN drivers d ON t.driverId = d.driverId GROUP BY t.driverId;"
      ],
      "metadata": {
        "id": "kzYtnBt5PTuJ"
      },
      "execution_count": null,
      "outputs": []
    },
    {
      "cell_type": "code",
      "source": [
        "# Query 3: Write the above query output in to hdfs directory\n",
        "\n",
        "INSERT OVERWRITE DIRECTORY  /user/mavricbdhnov0115/warehouse SELECT t.driverId,d.name,SUM(t.hours_logged) AS total_hours_logged,SUM(t.miles_logged) AS total_miles_logged FROM timesheet t JOIN drivers d ON t.driverId = d.driverId GROUP BY t.driverId, d.name;"
      ],
      "metadata": {
        "id": "cxIkrumhPXXq"
      },
      "execution_count": null,
      "outputs": []
    }
  ]
}